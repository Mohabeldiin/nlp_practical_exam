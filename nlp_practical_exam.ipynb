{
  "cells": [
    {
      "cell_type": "code",
      "execution_count": 1,
      "metadata": {
        "id": "fERcWHPBiCbB"
      },
      "outputs": [],
      "source": [
        "import gc\n",
        "import pickle\n",
        "\n",
        "import numpy as np\n",
        "import pandas\n",
        "from keras.preprocessing.text import Tokenizer\n",
        "from sklearn.preprocessing import LabelEncoder\n",
        "\n",
        "from tensorflow.python.keras import backend\n",
        "from tensorflow.python.keras.layers import Activation, Dense, Dropout\n",
        "from tensorflow.python.keras.models import load_model, Sequential\n",
        "from tensorflow.python.keras.utils.np_utils import to_categorical\n"
      ]
    },
    {
      "cell_type": "markdown",
      "metadata": {
        "id": "-WheTh0CIEqI"
      },
      "source": [
        "### Load Dataset\n",
        "\n",
        "ar_reviews_100k.csv"
      ]
    },
    {
      "cell_type": "code",
      "execution_count": 2,
      "metadata": {
        "id": "xuNNPu1oiIoL"
      },
      "outputs": [],
      "source": [
        "dataset = pandas.read_csv(\"ar_reviews_100k.tsv\", sep='\\t', header=0)"
      ]
    },
    {
      "cell_type": "code",
      "execution_count": 3,
      "metadata": {
        "colab": {
          "base_uri": "https://localhost:8080/"
        },
        "id": "UNGWnLurRVmG",
        "outputId": "8d761bd6-ef68-467d-b4db-0228b0a7d635"
      },
      "outputs": [],
      "source": [
        "#print(dataset.head())\n",
        "#print(type(dataset['text']))"
      ]
    },
    {
      "cell_type": "code",
      "execution_count": 4,
      "metadata": {
        "colab": {
          "base_uri": "https://localhost:8080/"
        },
        "id": "OQIVT349iJY7",
        "outputId": "8bb4ef15-2e05-40f3-f435-163dc51550e6"
      },
      "outputs": [],
      "source": [
        "labels = dataset['label']\n",
        "train_data = dataset.sample(frac=.7)\n",
        "test_data = dataset.drop(labels=train_data.index)\n",
        "#print(f\"Train Data:{len(train_data)}\")\n",
        "#print(f\"Test Data:{len(test_data)}\")\n",
        "train_reviews = train_data['text']\n",
        "test_reviews = test_data['text']"
      ]
    },
    {
      "cell_type": "code",
      "execution_count": 5,
      "metadata": {},
      "outputs": [],
      "source": [
        "#print(train_reviews)"
      ]
    },
    {
      "cell_type": "code",
      "execution_count": 6,
      "metadata": {
        "id": "dzZGt7hQiJcT"
      },
      "outputs": [],
      "source": [
        "tokenizer = Tokenizer(num_words=None,lower=False)\n",
        "tokenizer.fit_on_texts(dataset['text'])\n",
        "train_reviews1 = train_reviews[:875]\n",
        "train_reviews2 = train_reviews[875:1750]\n",
        "train_reviews3 = train_reviews[1750:2625]\n",
        "train_reviews4 = train_reviews[2625:3500]\n",
        "train_reviews5 = train_reviews[3500:4375]\n",
        "train_reviews6 = train_reviews[4375:5250]\n",
        "train_reviews7 = train_reviews[5250:6125]\n",
        "train_reviews8 = train_reviews[6125:6999]\n",
        "del train_reviews\n",
        "gc.collect()\n",
        "tokenized_train1 = tokenizer.texts_to_matrix(train_reviews1, mode='tfidf')\n",
        "tokenized_train2 = tokenizer.texts_to_matrix(train_reviews2, mode='tfidf')\n",
        "tokenized_train3 = tokenizer.texts_to_matrix(train_reviews3, mode='tfidf')\n",
        "tokenized_train4 = tokenizer.texts_to_matrix(train_reviews4, mode='tfidf')\n",
        "tokenized_train5 = tokenizer.texts_to_matrix(train_reviews5, mode='tfidf')\n",
        "tokenized_train6 = tokenizer.texts_to_matrix(train_reviews6, mode='tfidf')\n",
        "tokenized_train7 = tokenizer.texts_to_matrix(train_reviews7, mode='tfidf')\n",
        "tokenized_train8 = tokenizer.texts_to_matrix(train_reviews8, mode='tfidf')\n",
        "test_reviews1 = test_reviews[:750]\n",
        "test_reviews2 = test_reviews[750:1500]\n",
        "test_reviews3 = test_reviews[1500:2250]\n",
        "test_reviews4 = test_reviews[2250:3000]\n",
        "del test_reviews\n",
        "gc.collect()\n",
        "tokenized_test1 = tokenizer.texts_to_matrix(test_reviews1, mode='tfidf')\n",
        "tokenized_test2 = tokenizer.texts_to_matrix(test_reviews2, mode='tfidf')\n",
        "tokenized_test3 = tokenizer.texts_to_matrix(test_reviews3, mode='tfidf')\n",
        "tokenized_test4 = tokenizer.texts_to_matrix(test_reviews4, mode='tfidf')\n"
      ]
    },
    {
      "cell_type": "code",
      "execution_count": 8,
      "metadata": {},
      "outputs": [
        {
          "data": {
            "text/plain": [
              "522"
            ]
          },
          "execution_count": 8,
          "metadata": {},
          "output_type": "execute_result"
        }
      ],
      "source": [
        "tokenized_train = np.concatenate((tokenized_train1, tokenized_train2, tokenized_train3, tokenized_train4, tokenized_train5, tokenized_train6, tokenized_train7, tokenized_train8), axis=0)\n",
        "tokenized_test = np.concatenate((tokenized_test1, tokenized_test2, tokenized_test3, tokenized_test4), axis=0)\n",
        "del tokenized_train1, tokenized_train2, tokenized_train3, tokenized_train4, tokenized_train5, tokenized_train6, tokenized_train7, tokenized_train8\n",
        "del tokenized_test1, tokenized_test2, tokenized_test3, tokenized_test4\n",
        "gc.collect()"
      ]
    },
    {
      "cell_type": "code",
      "execution_count": 9,
      "metadata": {
        "id": "Znxc6crCiJe8"
      },
      "outputs": [],
      "source": [
        "encoder = LabelEncoder()\n",
        "encoder.fit(labels)\n",
        "labelst=encoder.fit_transform(labels)\n",
        "del labels\n",
        "num_classes = int((len(set(labelst))))\n",
        "#print((len(set(labelst))))\n",
        "del labelst\n",
        "gc.collect()\n",
        "encoded_train = encoder.fit_transform(train_data['label'])\n",
        "encoded_test = encoder.fit_transform(test_data['label'])"
      ]
    },
    {
      "cell_type": "markdown",
      "metadata": {},
      "source": [
        "8lban momkin ashiil num_labels.\n",
        "\n",
        "we vocab_size we max_words;\n",
        "\n",
        "bs lw hasiilhom ha7tag a7ot ta7t int(len(tokenizer.word_index) + 1)"
      ]
    },
    {
      "cell_type": "code",
      "execution_count": 10,
      "metadata": {
        "id": "nI5uRIy3iJhz"
      },
      "outputs": [],
      "source": [
        "encoded_train= to_categorical(encoded_train,num_classes)\n",
        "encoded_test = to_categorical(encoded_test, num_classes)\n",
        "\n",
        "\n",
        "num_labels = int(len(encoded_train.shape))\n",
        "vocab_size = int(len(tokenizer.word_index) + 1)\n",
        "\n",
        "max_words=vocab_size\n"
      ]
    },
    {
      "cell_type": "code",
      "execution_count": 11,
      "metadata": {
        "id": "VrUaeFiziJlL"
      },
      "outputs": [],
      "source": [
        "\n",
        "def f1_metric(y_true, y_pred):\n",
        "    true_positives = backend.sum(backend.round(backend.clip(y_true * y_pred, 0, 1)))\n",
        "    possible_positives = backend.sum(backend.round(backend.clip(y_true, 0, 1)))\n",
        "    predicted_positives = backend.sum(backend.round(backend.clip(y_pred, 0, 1)))\n",
        "    precision = true_positives / (predicted_positives + backend.epsilon())\n",
        "    recall = true_positives / (possible_positives + backend.epsilon())\n",
        "    f1_val = 2*(precision*recall)/(precision+recall+backend.epsilon())\n",
        "    return f1_val"
      ]
    },
    {
      "cell_type": "markdown",
      "metadata": {},
      "source": [
        "lw shelt max_word ha7tag a7ot hnaa int(len(tokenizer.word_index) + 1)\n",
        "\n",
        "bagrab a7ot num_labels bs deh hada mn 3andii"
      ]
    },
    {
      "cell_type": "code",
      "execution_count": 12,
      "metadata": {
        "id": "KT7RswjSjUj1"
      },
      "outputs": [],
      "source": [
        "# Build the model\n",
        "model = Sequential()\n",
        "#model.add(Dense(1024, input_shape=(max_words,)))\n",
        "model.add(Dense(1024, input_shape=(max_words,num_labels)))\n",
        "model.add(Activation('relu'))\n",
        "model.add(Dropout(0.5))\n",
        "model.add(Dense(num_classes))\n",
        "model.add(Activation('sigmoid'))"
      ]
    },
    {
      "cell_type": "code",
      "execution_count": null,
      "metadata": {
        "id": "hfNiv5LCjUnM"
      },
      "outputs": [],
      "source": [
        "model.compile(loss='categorical_crossentropy',\n",
        "              optimizer='adam',\n",
        "              metrics=['categorical_accuracy','Recall','Precision', f1_metric,'TruePositives','TrueNegatives','FalsePositives','FalseNegatives'])\n"
      ]
    },
    {
      "cell_type": "code",
      "execution_count": null,
      "metadata": {
        "id": "D-3RzayTjUss"
      },
      "outputs": [],
      "source": [
        "history = model.fit(tokenized_train, encoded_train,\n",
        "                    batch_size=100,\n",
        "                    epochs=2,\n",
        "                    verbose=1,\n",
        "                    validation_split=0.1)\n",
        "\n",
        "model.save('my_model.h1')\n",
        "#del model"
      ]
    },
    {
      "cell_type": "code",
      "execution_count": null,
      "metadata": {
        "id": "FdiaV7a5jUw0"
      },
      "outputs": [],
      "source": [
        "\n",
        "\n",
        "# saving\n",
        "with open('tokenizer.pickle', 'wb') as handle:\n",
        "    pickle.dump(tokenizer, handle, protocol=pickle.HIGHEST_PROTOCOL)\n",
        "\n",
        "# loading\n",
        "with open('tokenizer.pickle', 'rb') as handle:\n",
        "    tokenizer = pickle.load(handle)"
      ]
    },
    {
      "cell_type": "markdown",
      "metadata": {},
      "source": [
        "8lban msh m7tgin deh fe 7aga bafakr ashilhaa\n",
        "\n",
        "hankon m7tgnha fe 7alt enhom m7tagina nkyam el model bs "
      ]
    },
    {
      "cell_type": "code",
      "execution_count": null,
      "metadata": {
        "id": "LH4-eWntjU0j"
      },
      "outputs": [],
      "source": [
        "model = load_model('my_model.h1')\n",
        "Evaluation_valus = model.evaluate(tokenized_test,encoded_test,verbose=0)\n",
        "print(\"Loss\" , 'categorical_accuracy','Recall','Precision','f1_metric','TruePositives','TrueNegatives','FalsePositives','FalseNegatives')\n",
        "\n",
        "print(Evaluation_valus)\n"
      ]
    },
    {
      "cell_type": "code",
      "execution_count": null,
      "metadata": {
        "id": "pmGMv_lRkWV-"
      },
      "outputs": [],
      "source": [
        "for x in dataset[\"text\"][:25]:\n",
        "\n",
        "    tokens = tokenizer.texts_to_matrix([x], mode='tfidf')\n",
        "\n",
        "    c=model.predict(np.array(tokens))\n",
        "    cc=model.predict_classes(tokens)\n",
        "    xc = encoder.inverse_transform(cc)\n",
        "\n",
        "\n",
        "    print(c,\"= \\t\",cc,\"\\t\",xc)"
      ]
    }
  ],
  "metadata": {
    "colab": {
      "collapsed_sections": [],
      "name": " nlp_practical_exam.ipynb",
      "provenance": []
    },
    "interpreter": {
      "hash": "601523788c517d7a179e637478d62b7085d568aa1f24d3c6b0da698467f2eecf"
    },
    "kernelspec": {
      "display_name": "Python 3.10.2 64-bit",
      "language": "python",
      "name": "python3"
    },
    "language_info": {
      "codemirror_mode": {
        "name": "ipython",
        "version": 3
      },
      "file_extension": ".py",
      "mimetype": "text/x-python",
      "name": "python",
      "nbconvert_exporter": "python",
      "pygments_lexer": "ipython3",
      "version": "3.10.2"
    }
  },
  "nbformat": 4,
  "nbformat_minor": 0
}
