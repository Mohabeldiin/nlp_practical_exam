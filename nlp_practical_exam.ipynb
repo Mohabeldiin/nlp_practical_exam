{
  "cells": [
    {
      "cell_type": "markdown",
      "metadata": {},
      "source": [
        "### Importing The Needed Modules"
      ]
    },
    {
      "cell_type": "code",
      "execution_count": 1,
      "metadata": {
        "id": "fERcWHPBiCbB"
      },
      "outputs": [],
      "source": [
        "import gc\n",
        "import re\n",
        "import pickle\n",
        "import pandas\n",
        "\n",
        "import numpy as np\n",
        "import pyarabic.araby as araby\n",
        "from keras.preprocessing.text import Tokenizer\n",
        "from keras.models import load_model\n",
        "from sklearn.preprocessing import LabelEncoder\n",
        "\n",
        "import tensorflow\n",
        "from tensorflow.python.keras import backend\n",
        "from tensorflow.python.keras.layers import Activation, Dense, Dropout\n",
        "from tensorflow.python.keras.models import  Sequential\n",
        "from tensorflow.python.keras.utils.np_utils import to_categorical\n"
      ]
    },
    {
      "cell_type": "markdown",
      "metadata": {
        "id": "-WheTh0CIEqI"
      },
      "source": [
        "### Load Dataset"
      ]
    },
    {
      "cell_type": "markdown",
      "metadata": {},
      "source": [
        "ar_reviews_100k.csv"
      ]
    },
    {
      "cell_type": "code",
      "execution_count": 2,
      "metadata": {
        "id": "xuNNPu1oiIoL"
      },
      "outputs": [],
      "source": [
        "dataset = pandas.read_csv(\"ar_reviews_100k.tsv\", sep='\\t', header=0)"
      ]
    },
    {
      "cell_type": "markdown",
      "metadata": {},
      "source": [
        "### Cleaning The Reviews"
      ]
    },
    {
      "cell_type": "code",
      "execution_count": 4,
      "metadata": {
        "colab": {
          "base_uri": "https://localhost:8080/"
        },
        "id": "OQIVT349iJY7",
        "outputId": "8bb4ef15-2e05-40f3-f435-163dc51550e6"
      },
      "outputs": [],
      "source": [
        "labels = dataset['label']"
      ]
    },
    {
      "cell_type": "markdown",
      "metadata": {},
      "source": [
        "#### Removing Emotions, Links, Mentions, Hashtag"
      ]
    },
    {
      "cell_type": "code",
      "execution_count": null,
      "metadata": {},
      "outputs": [],
      "source": [
        "dataset['text'] = dataset['text'].map(lambda text: re.sub(r'[^\\u0600-\\u06ff\\u0750-\\u077f\\ufb50-\\ufbc1\\ufbd3-\\ufd3f\\ufd50-\\ufd8f\\ufd50-\\ufd8f\\ufe70-\\ufefc\\uFDF0-\\uFDFD]+', ' ', text).strip())"
      ]
    },
    {
      "cell_type": "markdown",
      "metadata": {},
      "source": [
        "#### Removing Tashkeel"
      ]
    },
    {
      "cell_type": "code",
      "execution_count": null,
      "metadata": {},
      "outputs": [],
      "source": [
        "dataset['text'] = dataset['text'].map(lambda text: araby.strip_diacritics(text))"
      ]
    },
    {
      "cell_type": "markdown",
      "metadata": {},
      "source": [
        "### Spliting The Dataset Randomly with Ratio 70%, 30% into Train Data and Test Data "
      ]
    },
    {
      "cell_type": "code",
      "execution_count": null,
      "metadata": {},
      "outputs": [],
      "source": [
        "train_data = dataset.sample(frac=.7)\n",
        "test_data = dataset.drop(labels=train_data.index)\n",
        "#print(f\"Train Data:{len(train_data)}\")\n",
        "#print(f\"Test Data:{len(test_data)}\")\n",
        "train_reviews = train_data['text']\n",
        "test_reviews = test_data['text']"
      ]
    },
    {
      "cell_type": "markdown",
      "metadata": {},
      "source": [
        "### Tokenizing the Dataset"
      ]
    },
    {
      "cell_type": "code",
      "execution_count": 6,
      "metadata": {
        "id": "dzZGt7hQiJcT"
      },
      "outputs": [],
      "source": [
        "tokenizer = Tokenizer(num_words=None,lower=False)\n",
        "tokenizer.fit_on_texts(dataset['text'])\n",
        "train_reviews1 = train_reviews[:875]\n",
        "train_reviews2 = train_reviews[875:1750]\n",
        "train_reviews3 = train_reviews[1750:2625]\n",
        "train_reviews4 = train_reviews[2625:3500]\n",
        "train_reviews5 = train_reviews[3500:4375]\n",
        "train_reviews6 = train_reviews[4375:5250]\n",
        "train_reviews7 = train_reviews[5250:6125]\n",
        "train_reviews8 = train_reviews[6125:6999]\n",
        "del train_reviews\n",
        "gc.collect()\n",
        "tokenized_train1 = tokenizer.texts_to_matrix(train_reviews1, mode='tfidf')\n",
        "tokenized_train2 = tokenizer.texts_to_matrix(train_reviews2, mode='tfidf')\n",
        "tokenized_train3 = tokenizer.texts_to_matrix(train_reviews3, mode='tfidf')\n",
        "tokenized_train4 = tokenizer.texts_to_matrix(train_reviews4, mode='tfidf')\n",
        "tokenized_train5 = tokenizer.texts_to_matrix(train_reviews5, mode='tfidf')\n",
        "tokenized_train6 = tokenizer.texts_to_matrix(train_reviews6, mode='tfidf')\n",
        "tokenized_train7 = tokenizer.texts_to_matrix(train_reviews7, mode='tfidf')\n",
        "tokenized_train8 = tokenizer.texts_to_matrix(train_reviews8, mode='tfidf')\n",
        "test_reviews1 = test_reviews[:750]\n",
        "test_reviews2 = test_reviews[750:1500]\n",
        "test_reviews3 = test_reviews[1500:2250]\n",
        "test_reviews4 = test_reviews[2250:3000]\n",
        "del test_reviews\n",
        "gc.collect()\n",
        "tokenized_test1 = tokenizer.texts_to_matrix(test_reviews1, mode='tfidf')\n",
        "tokenized_test2 = tokenizer.texts_to_matrix(test_reviews2, mode='tfidf')\n",
        "tokenized_test3 = tokenizer.texts_to_matrix(test_reviews3, mode='tfidf')\n",
        "tokenized_test4 = tokenizer.texts_to_matrix(test_reviews4, mode='tfidf')\n"
      ]
    },
    {
      "cell_type": "markdown",
      "metadata": {},
      "source": [
        "#### Collecting The Unnecessary Variables"
      ]
    },
    {
      "cell_type": "code",
      "execution_count": 7,
      "metadata": {},
      "outputs": [
        {
          "data": {
            "text/plain": [
              "0"
            ]
          },
          "execution_count": 7,
          "metadata": {},
          "output_type": "execute_result"
        }
      ],
      "source": [
        "tokenized_train = np.concatenate((tokenized_train1, tokenized_train2, tokenized_train3, tokenized_train4, tokenized_train5, tokenized_train6, tokenized_train7, tokenized_train8), axis=0)\n",
        "tokenized_test = np.concatenate((tokenized_test1, tokenized_test2, tokenized_test3, tokenized_test4))\n",
        "del tokenized_train1, tokenized_train2, tokenized_train3, tokenized_train4, tokenized_train5, tokenized_train6, tokenized_train7, tokenized_train8\n",
        "del tokenized_test1, tokenized_test2, tokenized_test3, tokenized_test4\n",
        "gc.collect()"
      ]
    },
    {
      "cell_type": "markdown",
      "metadata": {},
      "source": [
        "### Encoding The Labels"
      ]
    },
    {
      "cell_type": "code",
      "execution_count": 8,
      "metadata": {
        "id": "Znxc6crCiJe8"
      },
      "outputs": [],
      "source": [
        "encoder = LabelEncoder()\n",
        "encoder.fit(labels)\n",
        "labelst=encoder.fit_transform(labels)\n",
        "del labels\n",
        "num_classes = int((len(set(labelst))))\n",
        "del labelst\n",
        "gc.collect()\n",
        "encoded_train = encoder.fit_transform(train_data['label'])\n",
        "encoded_test = encoder.fit_transform(test_data['label'])\n",
        "encoded_train= to_categorical(encoded_train,num_classes)\n",
        "#encoded_test = to_categorical(encoded_test, num_classes)\n",
        "max_words = int(len(tokenizer.word_index) + 1)"
      ]
    },
    {
      "cell_type": "markdown",
      "metadata": {},
      "source": [
        "### Defining The Confusion Matrix"
      ]
    },
    {
      "cell_type": "code",
      "execution_count": 10,
      "metadata": {
        "id": "VrUaeFiziJlL"
      },
      "outputs": [],
      "source": [
        "\n",
        "def confusion_matrix(true, pred):\n",
        "    true_positives = backend.sum(backend.round(backend.clip(true * pred, 0, 1)))\n",
        "    possible_positives = backend.sum(backend.round(backend.clip(true, 0, 1)))\n",
        "    predicted_positives = backend.sum(backend.round(backend.clip(pred, 0, 1)))\n",
        "    precision = true_positives / (predicted_positives + backend.epsilon())\n",
        "    recall = true_positives / (possible_positives + backend.epsilon())\n",
        "    return 2*(precision*recall)/(precision+recall+backend.epsilon())"
      ]
    },
    {
      "cell_type": "markdown",
      "metadata": {},
      "source": [
        "### Building The Model"
      ]
    },
    {
      "cell_type": "code",
      "execution_count": 11,
      "metadata": {
        "id": "KT7RswjSjUj1"
      },
      "outputs": [],
      "source": [
        "model = Sequential()\n",
        "model.add(Dense(1024, input_shape=(max_words)))\n",
        "model.add(Activation('relu'))\n",
        "model.add(Dropout(0.5))\n",
        "model.add(Dense(num_classes))\n",
        "model.add(Activation('sigmoid'))"
      ]
    },
    {
      "cell_type": "markdown",
      "metadata": {},
      "source": [
        "#### Compiling The Model"
      ]
    },
    {
      "cell_type": "code",
      "execution_count": 12,
      "metadata": {
        "id": "hfNiv5LCjUnM"
      },
      "outputs": [],
      "source": [
        "model.compile(loss='categorical_crossentropy',\n",
        "                optimizer='adam',\n",
        "                metrics=['categorical_accuracy','Recall','Precision', confusion_matrix,'TruePositives','TrueNegatives','FalsePositives','FalseNegatives'])\n"
      ]
    },
    {
      "cell_type": "markdown",
      "metadata": {},
      "source": [
        "### Training The Model"
      ]
    },
    {
      "cell_type": "markdown",
      "metadata": {},
      "source": [
        "#### Pretraining"
      ]
    },
    {
      "cell_type": "code",
      "execution_count": 13,
      "metadata": {},
      "outputs": [],
      "source": [
        "tokenized_train = np.stack(tokenized_train, axis=0)\n",
        "encoded_train = np.stack(encoded_train, axis=0)"
      ]
    },
    {
      "cell_type": "markdown",
      "metadata": {},
      "source": [
        "#### Training"
      ]
    },
    {
      "cell_type": "code",
      "execution_count": 14,
      "metadata": {
        "id": "D-3RzayTjUss"
      },
      "outputs": [
        {
          "name": "stdout",
          "output_type": "stream",
          "text": [
            "Epoch 1/2\n",
            "63/63 [==============================] - 95s 1s/step - loss: 0.9552 - categorical_accuracy: 0.5755 - recall: 0.7938 - precision: 0.4672 - f1_metric: 0.5878 - true_positives: 5000.0000 - true_negatives: 6895.0000 - false_positives: 5703.0000 - false_negatives: 1299.0000 - val_loss: 0.9009 - val_categorical_accuracy: 0.6186 - val_recall: 0.8286 - val_precision: 0.4801 - val_f1_metric: 0.6080 - val_true_positives: 580.0000 - val_true_negatives: 772.0000 - val_false_positives: 628.0000 - val_false_negatives: 120.0000\n",
            "Epoch 2/2\n",
            "63/63 [==============================] - 88s 1s/step - loss: 0.1685 - categorical_accuracy: 0.9602 - recall: 0.9857 - precision: 0.7662 - f1_metric: 0.8626 - true_positives: 6209.0000 - true_negatives: 10703.0000 - false_positives: 1895.0000 - false_negatives: 90.0000 - val_loss: 1.0349 - val_categorical_accuracy: 0.6086 - val_recall: 0.7986 - val_precision: 0.5054 - val_f1_metric: 0.6190 - val_true_positives: 559.0000 - val_true_negatives: 853.0000 - val_false_positives: 547.0000 - val_false_negatives: 141.0000\n",
            "INFO:tensorflow:Assets written to: my_model.h1\\assets\n"
          ]
        }
      ],
      "source": [
        "history = model.fit(tokenized_train,\n",
        "                    encoded_train,\n",
        "                    batch_size=100,\n",
        "                    epochs=2,\n",
        "                    verbose=\"auto\",\n",
        "                    validation_split=0.1)"
      ]
    },
    {
      "cell_type": "markdown",
      "metadata": {},
      "source": [
        "### Saving The Model"
      ]
    },
    {
      "cell_type": "code",
      "execution_count": null,
      "metadata": {},
      "outputs": [],
      "source": [
        "model.save('my_model.h1')\n",
        "#del model"
      ]
    },
    {
      "cell_type": "markdown",
      "metadata": {},
      "source": [
        "#### Saving The Tokenizer"
      ]
    },
    {
      "cell_type": "code",
      "execution_count": 15,
      "metadata": {
        "id": "FdiaV7a5jUw0"
      },
      "outputs": [],
      "source": [
        "#with open('tokenizer.pickle', 'wb') as handle:\n",
        "#    pickle.dump(tokenizer, handle, protocol=pickle.HIGHEST_PROTOCOL)\n",
        "\n",
        "#with open('tokenizer.pickle', 'rb') as handle:\n",
        "#    tokenizer = pickle.load(handle)"
      ]
    },
    {
      "cell_type": "markdown",
      "metadata": {},
      "source": [
        "##### Evaluating The Model\n"
      ]
    },
    {
      "cell_type": "markdown",
      "metadata": {},
      "source": [
        "fe error hnaa\n",
        "\n",
        "ValueError: Data cardinality is ambiguous: x sizes: 3000 y sizes: 30000 Make sure all arrays contain the same number of samples."
      ]
    },
    {
      "cell_type": "code",
      "execution_count": 16,
      "metadata": {
        "id": "LH4-eWntjU0j"
      },
      "outputs": [],
      "source": [
        "#model = load_model('my_model.h1')\n",
        "#Evaluation_valus = model.evaluate(tokenized_test,encoded_test,verbose=0)\n",
        "#print(\"Loss\" , 'categorical_accuracy','Recall','Precision','confusion_matrix','TruePositives','TrueNegatives','FalsePositives','FalseNegatives')\n",
        "\n",
        "#print(Evaluation_valus)\n"
      ]
    },
    {
      "cell_type": "markdown",
      "metadata": {},
      "source": [
        "## Showcasing The Model"
      ]
    },
    {
      "cell_type": "code",
      "execution_count": 18,
      "metadata": {
        "id": "pmGMv_lRkWV-"
      },
      "outputs": [
        {
          "name": "stdout",
          "output_type": "stream",
          "text": [
            "[[0.6998499 0.4088995 0.4931733]] = \t [0] \t ['Mixed']\n",
            "[[0.71525127 0.3223182  0.57689726]] = \t [0] \t ['Mixed']\n",
            "[[0.86055386 0.21786037 0.75085783]] = \t [0] \t ['Mixed']\n",
            "[[0.47947097 0.99509275 0.00829816]] = \t [1] \t ['Negative']\n",
            "[[0.436921   0.31989893 0.91008186]] = \t [2] \t ['Positive']\n",
            "[[0.33936447 0.83103275 0.49918267]] = \t [1] \t ['Negative']\n",
            "[[0.0725103  0.61435807 0.924398  ]] = \t [2] \t ['Positive']\n",
            "[[0.9773632  0.93890184 0.22163373]] = \t [0] \t ['Mixed']\n",
            "[[0.33662146 0.7703366  0.31385532]] = \t [1] \t ['Negative']\n",
            "[[0.47588736 0.49595106 0.48975328]] = \t [1] \t ['Negative']\n"
          ]
        }
      ],
      "source": [
        "for review in test_data[\"text\"].sample(n=10):\n",
        "\n",
        "    tokenized_review = tokenizer.texts_to_matrix([review], mode='tfidf')\n",
        "\n",
        "    prediction = model.predict(np.array(tokenized_review))\n",
        "    predicted_class = model.predict_classes(tokenized_review)\n",
        "    predicted_label = encoder.inverse_transform(predicted_class)\n",
        "\n",
        "    print(prediction,\"= \\t\",predicted_class,\"\\t\",predicted_label)"
      ]
    }
  ],
  "metadata": {
    "colab": {
      "collapsed_sections": [],
      "name": " nlp_practical_exam.ipynb",
      "provenance": []
    },
    "interpreter": {
      "hash": "601523788c517d7a179e637478d62b7085d568aa1f24d3c6b0da698467f2eecf"
    },
    "kernelspec": {
      "display_name": "Python 3.10.2 64-bit",
      "language": "python",
      "name": "python3"
    },
    "language_info": {
      "codemirror_mode": {
        "name": "ipython",
        "version": 3
      },
      "file_extension": ".py",
      "mimetype": "text/x-python",
      "name": "python",
      "nbconvert_exporter": "python",
      "pygments_lexer": "ipython3",
      "version": "3.10.2"
    }
  },
  "nbformat": 4,
  "nbformat_minor": 0
}
